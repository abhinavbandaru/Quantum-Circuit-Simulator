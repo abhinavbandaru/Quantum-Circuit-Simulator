{
  "nbformat": 4,
  "nbformat_minor": 0,
  "metadata": {
    "colab": {
      "name": "qosfTask3.ipynb",
      "provenance": [],
      "collapsed_sections": []
    },
    "kernelspec": {
      "name": "python3",
      "display_name": "Python 3"
    }
  },
  "cells": [
    {
      "cell_type": "markdown",
      "metadata": {
        "id": "boMrgieXzGSe"
      },
      "source": [
        "# Creating a Quantum Circuit Simulator from scratch\n",
        "\n",
        "Note: This module assumes that you are familiar with basic quantum gates and the qiskit simulator."
      ]
    },
    {
      "cell_type": "code",
      "metadata": {
        "id": "1IEIVIFbUNlj"
      },
      "source": [
        "import numpy as np\n",
        "import math\n",
        "import random\n",
        "import matplotlib.pyplot as plt"
      ],
      "execution_count": 105,
      "outputs": []
    },
    {
      "cell_type": "markdown",
      "metadata": {
        "id": "Fm4F0IehzH3Q"
      },
      "source": [
        ""
      ]
    },
    {
      "cell_type": "code",
      "metadata": {
        "id": "hQxnXA9e4LQ8"
      },
      "source": [
        "def x():\n",
        "    return np.array([[0.0,1.0],[1.0,0.0]], dtype = 'complex')\n",
        "\n",
        "def y():\n",
        "    return np.array([[0.0,-1.0j],[1.0j,0.0]], dtype = 'complex')\n",
        "\n",
        "def z():\n",
        "    return np.array([[1.0,0.0],[0.0,-1.0]], dtype = 'complex')\n",
        "\n",
        "def h():\n",
        "    return np.sqrt(1/2)*np.array([[1.0,1.0],[1.0,-1.0]], dtype = 'complex')\n",
        "\n",
        "def s():\n",
        "    return np.array([[1.0,0.0],[0.0,1.0j]], dtype = 'complex')\n",
        "\n",
        "def t():\n",
        "    return np.array([[1,0],[0,np.exp(1.0j*np.pi/4)]], dtype = 'complex')\n",
        "\n",
        "def projections():\n",
        "    projection_0 = np.array([[1,0],[0,0]], dtype = 'complex')\n",
        "    projection_1 = np.array([[0,0],[0,1]], dtype = 'complex')\n",
        "    return (projection_0, projection_1)\n",
        "\n",
        "I = np.eye(2)"
      ],
      "execution_count": 55,
      "outputs": []
    },
    {
      "cell_type": "code",
      "metadata": {
        "id": "4lgr5utd-eAH"
      },
      "source": [
        "def get_ground_state(num_qubits):\n",
        "      # return vector of size 2**num_qubits with all zeroes except first element which is 1\n",
        "    q = np.zeros(2**num_qubits)\n",
        "    q[0] = 1\n",
        "    return q\n",
        "\n",
        "def get_operator(total_qubits, gate_string, target_qubits, params):\n",
        "  # return unitary operator of size 2**n x 2**n for given gate and target qubits\n",
        "    if (len(target_qubits) == 1):\n",
        "        if (len(params) == 0):\n",
        "            gate = I\n",
        "            if (gate_string == 'x'): gate = x()\n",
        "            elif (gate_string == 'y'): gate = y()\n",
        "            elif (gate_string == 'z'): gate = z()\n",
        "            elif (gate_string == 'h'): gate = h()\n",
        "            elif (gate_string == 's'): gate = s()\n",
        "            elif (gate_string == 't'): gate = t()\n",
        "            \n",
        "            operator_used = np.zeros(total_qubits)\n",
        "            operator_used[target_qubits[0]] = 1\n",
        "            final_op = I\n",
        "            if (operator_used[0] == 1): \n",
        "                final_op = gate\n",
        "\n",
        "            for i in range(1, total_qubits):\n",
        "                if (operator_used[i] == 0): \n",
        "                    final_op = np.kron(final_op, I)\n",
        "                else : \n",
        "                    final_op = np.kron(final_op, gate)\n",
        "            return final_op\n",
        "        else :\n",
        "            \n",
        "    \n",
        "    else :\n",
        "        gate = I\n",
        "        if (gate_string == 'cx'): gate = x()\n",
        "        elif (gate_string == 'cz'): gate = z()\n",
        "        elif (gate_string == 'cy'): gate = y()\n",
        "        control_bit = target_qubits[0]\n",
        "        target_bit = target_qubits[1]\n",
        "        if control_bit == target_bit:\n",
        "            print(\"Error: The Control bit and The Target bit are the same, please enter the different values\")\n",
        "            return\n",
        "        operator_used = np.zeros(total_qubits)\n",
        "        operator_used[control_bit] = 1\n",
        "        operator_used[target_bit] = 2\n",
        "        left_tensor = I\n",
        "        right_tensor = I\n",
        "        \n",
        "        if operator_used[0] == 1:\n",
        "            left_tensor = projections()[0]\n",
        "            right_tensor = projections()[1]\n",
        "        elif operator_used[0] == 2:\n",
        "            right_tensor = gate\n",
        "\n",
        "        for i in range(1, total_qubits):\n",
        "            if (operator_used[i] == 0): \n",
        "                left_tensor = np.kron(left_tensor, I)\n",
        "                right_tensor = np.kron(right_tensor, I)\n",
        "            elif (operator_used[i] == 1): \n",
        "                left_tensor = np.kron(left_tensor, projections()[0])\n",
        "                right_tensor = np.kron(right_tensor, projections()[1])\n",
        "            else :\n",
        "                left_tensor = np.kron(left_tensor, I)\n",
        "                right_tensor = np.kron(right_tensor, gate)\n",
        "        \n",
        "        \n",
        "        return left_tensor + right_tensor\n",
        "        \n",
        "\n",
        "    \n",
        "\n",
        "def run_program(initial_state, program):\n",
        "  # read program, and for each gate:\n",
        "  #   - calculate matrix operator\n",
        "  #   - multiply state with operator\n",
        "  # return final state\n",
        "    qubits = int(math.log2(len(initial_state)))\n",
        "    for i in range(0, len(program)):\n",
        "        initial_state = np.dot(initial_state, get_operator(qubits, program[i][\"gate\"], program[i][\"target\"]))\n",
        "    return initial_state\n",
        "\n",
        "def measure_all(state_vector):\n",
        "  # choose element from state_vector using weighted random and return it's index\n",
        "    qubits = int(math.log2(len(state_vector)))\n",
        "    index = [\"\" for x in range(len(state_vector))]\n",
        "    probabilities = [abs(i)**2 for i in state_vector]\n",
        "    for i in range(0, len(index)):\n",
        "        index[i] = str(format(i, '00' + str(qubits) + 'b'))\n",
        "    return random.choices(index, probabilities)[0]\n",
        "\n",
        "def get_counts(state_vector, num_shots):\n",
        "  # simply execute measure_all in a loop num_shots times and\n",
        "  # return object with statistics in following form:\n",
        "  #   {\n",
        "  #      element_index: number_of_ocurrences,\n",
        "  #      element_index: number_of_ocurrences,\n",
        "  #      element_index: number_of_ocurrences,\n",
        "  #      ...\n",
        "  #   }\n",
        "  # (only for elements which occoured - returned from measure_all)\n",
        "    \n",
        "    bin_index = [\"\" for x in range(len(state_vector))]\n",
        "    qubits = int(math.log2(len(state_vector)))\n",
        "    for i in range(0, len(bin_index)):\n",
        "        bin_index[i] = str(format(i, '00' + str(qubits) + 'b'))\n",
        "    \n",
        "    values = {}\n",
        "    \n",
        "    for i in range(0, len(bin_index)):\n",
        "        values[bin_index[i]]=0\n",
        "    \n",
        "    for i in range(0, num_shots):\n",
        "        values[measure_all(state_vector)] +=1\n",
        "\n",
        "    for i in range(0, len(bin_index)):\n",
        "        if(values[bin_index[i]]==0):\n",
        "            del(values[bin_index[i]])\n",
        "    \n",
        "    return values\n",
        "\n"
      ],
      "execution_count": 98,
      "outputs": []
    },
    {
      "cell_type": "code",
      "metadata": {
        "colab": {
          "base_uri": "https://localhost:8080/"
        },
        "id": "KaFxtEurolj3",
        "outputId": "972e00a4-1676-44c3-d182-ed5b59bffbf0"
      },
      "source": [
        "# Define program:\n",
        "\n",
        "my_circuit = [\n",
        "{ \"gate\": \"h\", \"target\": [0] }, \n",
        "{ \"gate\": \"cx\", \"target\": [0, 1] }\n",
        "]\n",
        "\n",
        "\n",
        "# Create \"quantum computer\" with 2 qubits (this is actually just a vector :) )\n",
        "\n",
        "my_qpu = get_ground_state(2)\n",
        "\n",
        "\n",
        "# Run circuit\n",
        "\n",
        "final_state = run_program(my_qpu, my_circuit)\n",
        "\n",
        "\n",
        "# Read results\n",
        "\n",
        "counts = get_counts(final_state, 1000)\n",
        "\n",
        "print(counts)\n",
        "\n",
        "# Should print something like:\n",
        "# {\n",
        "#   \"00\": 502,\n",
        "#   \"11\": 498\n",
        "# }\n",
        "\n",
        "# Voila!\n"
      ],
      "execution_count": 101,
      "outputs": [
        {
          "output_type": "stream",
          "text": [
            "{'00': 476, '11': 524}\n"
          ],
          "name": "stdout"
        }
      ]
    },
    {
      "cell_type": "code",
      "metadata": {
        "colab": {
          "base_uri": "https://localhost:8080/",
          "height": 407
        },
        "id": "mXojXOv29HOA",
        "outputId": "14ddbf93-c28d-4be6-f3d6-3e0f45d77a53"
      },
      "source": [
        "fig, ax = plt.subplots(1,1,dpi=100)\n",
        "plt.bar(*zip(*counts.items()),color='m',width=0.5,edgecolor='k',linewidth=1.5)\n",
        "x_ticks_labels = counts.keys()\n",
        "ax.set_xticklabels(x_ticks_labels, rotation=45, fontsize=18)\n",
        "ax.set_xlabel(\"Quantum States\",fontsize=16)\n",
        "ax.set_ylabel(\"Probabilities\",fontsize=16)\n",
        "ax.set_axisbelow(True)\n",
        "ax.grid(linestyle='-.',color='lightgray',zorder=0)\n",
        "fig.tight_layout()"
      ],
      "execution_count": 106,
      "outputs": [
        {
          "output_type": "display_data",
          "data": {
            "image/png": "[encoded data removed]",
            "text/plain": [
              "<Figure size 600x400 with 1 Axes>"
            ]
          },
          "metadata": {
            "tags": [],
            "needs_background": "light"
          }
        }
      ]
    },
    {
      "cell_type": "code",
      "metadata": {
        "id": "n5B3x__r9T9F"
      },
      "source": [
        ""
      ],
      "execution_count": null,
      "outputs": []
    }
  ]
}