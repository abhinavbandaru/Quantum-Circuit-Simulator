{
  "nbformat": 4,
  "nbformat_minor": 0,
  "metadata": {
    "colab": {
      "name": "qosfTask3.ipynb",
      "provenance": [],
      "collapsed_sections": []
    },
    "kernelspec": {
      "name": "python3",
      "display_name": "Python 3"
    }
  },
  "cells": [
    {
      "cell_type": "markdown",
      "metadata": {
        "id": "boMrgieXzGSe"
      },
      "source": [
        "# Creating a Quantum Circuit Simulator from scratch\n",
        "\n",
        "Note: This module assumes that you are familiar with basic quantum gates and the qiskit simulator.\n",
        "\n",
        "In this module I'm just attempting to create a simple quantum circuit simulator inspired by the qiskit simulator. I've Implemented most of the well known gates as a part of the simulator. "
      ]
    },
    {
      "cell_type": "code",
      "metadata": {
        "colab": {
          "base_uri": "https://localhost:8080/"
        },
        "id": "6kX0IHZZQ0Fj",
        "outputId": "51c8e6a6-b7d8-4822-e556-23744340bf58"
      },
      "source": [
        "!pip install qiskit"
      ],
      "execution_count": 1,
      "outputs": [
        {
          "output_type": "stream",
          "text": [
            "Collecting qiskit\n",
            "  Downloading https://files.pythonhosted.org/packages/96/6b/1c1a5ed225ac2e42ebc07df49e9c1ce0d3221c6d0744e7d6d5983ff0e69e/qiskit-0.23.6.tar.gz\n",
            "Collecting qiskit-terra==0.16.4\n",
            "\u001b[?25l  Downloading https://files.pythonhosted.org/packages/56/e2/c256863ec8fab2162bf17d7e9c8564186a4636b4f24b5ea5d38a014b809e/qiskit_terra-0.16.4-cp36-cp36m-manylinux2010_x86_64.whl (8.5MB)\n",
            "\u001b[K     |████████████████████████████████| 8.5MB 4.0MB/s \n",
            "\u001b[?25hCollecting qiskit-aer==0.7.5\n",
            "\u001b[?25l  Downloading https://files.pythonhosted.org/packages/0e/4e/cf4493e8d8a7785b945b483429aa4b7960e30576eb8f3b24444991781460/qiskit_aer-0.7.5-cp36-cp36m-manylinux2010_x86_64.whl (17.6MB)\n",
            "\u001b[K     |████████████████████████████████| 17.6MB 259kB/s \n",
            "\u001b[?25hCollecting qiskit-ibmq-provider==0.11.1\n",
            "\u001b[?25l  Downloading https://files.pythonhosted.org/packages/32/b9/f99bec4fdc4dec234d8a85a8da378750441a203c614be35353f5e8738316/qiskit_ibmq_provider-0.11.1-py3-none-any.whl (195kB)\n",
            "\u001b[K     |████████████████████████████████| 204kB 63.9MB/s \n",
            "\u001b[?25hCollecting qiskit-ignis==0.5.2\n",
            "\u001b[?25l  Downloading https://files.pythonhosted.org/packages/b2/1d/d5df8cf48cf20a26deb6e0535f020cd2ad625cb27457abb0ab39c2104e38/qiskit_ignis-0.5.2-py3-none-any.whl (203kB)\n",
            "\u001b[K     |████████████████████████████████| 204kB 67.2MB/s \n",
            "\u001b[?25hCollecting qiskit-aqua==0.8.2\n",
            "\u001b[?25l  Downloading https://files.pythonhosted.org/packages/0e/82/528741676960a7fd1c75151639601826118f2729ad53034fa3b39290c056/qiskit_aqua-0.8.2-py3-none-any.whl (2.1MB)\n",
            "\u001b[K     |████████████████████████████████| 2.1MB 62.3MB/s \n",
            "\u001b[?25hRequirement already satisfied: scipy>=1.4 in /usr/local/lib/python3.6/dist-packages (from qiskit-terra==0.16.4->qiskit) (1.4.1)\n",
            "Collecting retworkx>=0.5.0\n",
            "\u001b[?25l  Downloading https://files.pythonhosted.org/packages/b7/21/5d4498cedb23927a31173176975e2162e0d6a2b80846ef254dd5500e10da/retworkx-0.7.2-cp36-cp36m-manylinux2010_x86_64.whl (1.3MB)\n",
            "\u001b[K     |████████████████████████████████| 1.3MB 56.7MB/s \n",
            "\u001b[?25hRequirement already satisfied: dill>=0.3 in /usr/local/lib/python3.6/dist-packages (from qiskit-terra==0.16.4->qiskit) (0.3.3)\n",
            "Requirement already satisfied: numpy>=1.17 in /usr/local/lib/python3.6/dist-packages (from qiskit-terra==0.16.4->qiskit) (1.19.5)\n",
            "Requirement already satisfied: networkx>=2.2 in /usr/local/lib/python3.6/dist-packages (from qiskit-terra==0.16.4->qiskit) (2.5)\n",
            "Requirement already satisfied: python-dateutil>=2.8.0 in /usr/local/lib/python3.6/dist-packages (from qiskit-terra==0.16.4->qiskit) (2.8.1)\n",
            "Collecting contextvars>=2.4; python_version < \"3.7\"\n",
            "  Downloading https://files.pythonhosted.org/packages/83/96/55b82d9f13763be9d672622e1b8106c85acb83edd7cc2fa5bc67cd9877e9/contextvars-2.4.tar.gz\n",
            "Requirement already satisfied: jsonschema>=2.6 in /usr/local/lib/python3.6/dist-packages (from qiskit-terra==0.16.4->qiskit) (2.6.0)\n",
            "Collecting sympy>=1.3\n",
            "\u001b[?25l  Downloading https://files.pythonhosted.org/packages/ff/69/b16fc81b939d3efdd0b552f2e3e54f7fa1423d0c320cced2e69e675dde26/sympy-1.7.1-py3-none-any.whl (5.9MB)\n",
            "\u001b[K     |████████████████████████████████| 5.9MB 49.2MB/s \n",
            "\u001b[?25hCollecting ply>=3.10\n",
            "\u001b[?25l  Downloading https://files.pythonhosted.org/packages/a3/58/35da89ee790598a0700ea49b2a66594140f44dec458c07e8e3d4979137fc/ply-3.11-py2.py3-none-any.whl (49kB)\n",
            "\u001b[K     |████████████████████████████████| 51kB 7.9MB/s \n",
            "\u001b[?25hRequirement already satisfied: psutil>=5 in /usr/local/lib/python3.6/dist-packages (from qiskit-terra==0.16.4->qiskit) (5.4.8)\n",
            "Collecting fastjsonschema>=2.10\n",
            "  Downloading https://files.pythonhosted.org/packages/89/1c/8be51fa42aadc1c1611a52b866e1a5a1032a504f24789cf140b4e6d7c940/fastjsonschema-2.15.0-py3-none-any.whl\n",
            "Collecting python-constraint>=1.4\n",
            "  Downloading https://files.pythonhosted.org/packages/37/8b/5f1bc2734ca611943e1d6733ee244238679f6410a10cd45ede55a61a8402/python-constraint-1.4.0.tar.bz2\n",
            "Collecting pybind11>=2.4\n",
            "\u001b[?25l  Downloading https://files.pythonhosted.org/packages/8d/43/7339dbabbc2793718d59703aace4166f53c29ee1c202f6ff5bf8a26c4d91/pybind11-2.6.2-py2.py3-none-any.whl (191kB)\n",
            "\u001b[K     |████████████████████████████████| 194kB 51.9MB/s \n",
            "\u001b[?25hRequirement already satisfied: cython>=0.27.1 in /usr/local/lib/python3.6/dist-packages (from qiskit-aer==0.7.5->qiskit) (0.29.21)\n",
            "Requirement already satisfied: urllib3>=1.21.1 in /usr/local/lib/python3.6/dist-packages (from qiskit-ibmq-provider==0.11.1->qiskit) (1.24.3)\n",
            "Requirement already satisfied: requests>=2.19 in /usr/local/lib/python3.6/dist-packages (from qiskit-ibmq-provider==0.11.1->qiskit) (2.23.0)\n",
            "Collecting requests-ntlm>=1.1.0\n",
            "  Downloading https://files.pythonhosted.org/packages/03/4b/8b9a1afde8072c4d5710d9fa91433d504325821b038e00237dc8d6d833dc/requests_ntlm-1.1.0-py2.py3-none-any.whl\n",
            "Requirement already satisfied: nest-asyncio!=1.1.0,>=1.0.0 in /usr/local/lib/python3.6/dist-packages (from qiskit-ibmq-provider==0.11.1->qiskit) (1.5.1)\n",
            "Collecting websockets>=8\n",
            "\u001b[?25l  Downloading https://files.pythonhosted.org/packages/bb/d9/856af84843912e2853b1b6e898ac8b802989fcf9ecf8e8445a1da263bf3b/websockets-8.1-cp36-cp36m-manylinux2010_x86_64.whl (78kB)\n",
            "\u001b[K     |████████████████████████████████| 81kB 11.4MB/s \n",
            "\u001b[?25hRequirement already satisfied: scikit-learn>=0.17 in /usr/local/lib/python3.6/dist-packages (from qiskit-ignis==0.5.2->qiskit) (0.22.2.post1)\n",
            "Requirement already satisfied: setuptools>=40.1.0 in /usr/local/lib/python3.6/dist-packages (from qiskit-ignis==0.5.2->qiskit) (53.0.0)\n",
            "Collecting docplex==2.15.194\n",
            "\u001b[?25l  Downloading https://files.pythonhosted.org/packages/9b/76/ebf5b75a25c4357c9a4758cae7fea778dd7f282b83c2f22e150dc7e3c852/docplex-2.15.194.tar.gz (582kB)\n",
            "\u001b[K     |████████████████████████████████| 583kB 40.0MB/s \n",
            "\u001b[?25hRequirement already satisfied: h5py in /usr/local/lib/python3.6/dist-packages (from qiskit-aqua==0.8.2->qiskit) (2.10.0)\n",
            "Collecting dlx\n",
            "  Downloading https://files.pythonhosted.org/packages/54/c0/b8fb5bb727e983b6f5251433ef941b48f38c65bb0bd6ec509e9185bcd406/dlx-1.0.4.tar.gz\n",
            "Requirement already satisfied: pandas in /usr/local/lib/python3.6/dist-packages (from qiskit-aqua==0.8.2->qiskit) (1.1.5)\n",
            "Collecting yfinance\n",
            "  Downloading https://files.pythonhosted.org/packages/7a/e8/b9d7104d3a4bf39924799067592d9e59119fcfc900a425a12e80a3123ec8/yfinance-0.1.55.tar.gz\n",
            "Requirement already satisfied: dataclasses; python_version < \"3.7\" in /usr/local/lib/python3.6/dist-packages (from qiskit-aqua==0.8.2->qiskit) (0.8)\n",
            "Requirement already satisfied: fastdtw in /usr/local/lib/python3.6/dist-packages (from qiskit-aqua==0.8.2->qiskit) (0.3.4)\n",
            "Collecting quandl\n",
            "  Downloading https://files.pythonhosted.org/packages/c2/58/9f0e69d836045e3865d263e9ed49f42b23a58526fdabb30f74c430baee3f/Quandl-3.6.0-py2.py3-none-any.whl\n",
            "Requirement already satisfied: decorator>=4.3.0 in /usr/local/lib/python3.6/dist-packages (from networkx>=2.2->qiskit-terra==0.16.4->qiskit) (4.4.2)\n",
            "Requirement already satisfied: six>=1.5 in /usr/local/lib/python3.6/dist-packages (from python-dateutil>=2.8.0->qiskit-terra==0.16.4->qiskit) (1.15.0)\n",
            "Collecting immutables>=0.9\n",
            "\u001b[?25l  Downloading https://files.pythonhosted.org/packages/4a/52/e64a14a99c509cbdfe0405e9f076aef0331cb9548a3efa1d5bacd524978a/immutables-0.15-cp36-cp36m-manylinux1_x86_64.whl (100kB)\n",
            "\u001b[K     |████████████████████████████████| 102kB 13.0MB/s \n",
            "\u001b[?25hRequirement already satisfied: mpmath>=0.19 in /usr/local/lib/python3.6/dist-packages (from sympy>=1.3->qiskit-terra==0.16.4->qiskit) (1.1.0)\n",
            "Requirement already satisfied: idna<3,>=2.5 in /usr/local/lib/python3.6/dist-packages (from requests>=2.19->qiskit-ibmq-provider==0.11.1->qiskit) (2.10)\n",
            "Requirement already satisfied: chardet<4,>=3.0.2 in /usr/local/lib/python3.6/dist-packages (from requests>=2.19->qiskit-ibmq-provider==0.11.1->qiskit) (3.0.4)\n",
            "Requirement already satisfied: certifi>=2017.4.17 in /usr/local/lib/python3.6/dist-packages (from requests>=2.19->qiskit-ibmq-provider==0.11.1->qiskit) (2020.12.5)\n",
            "Collecting cryptography>=1.3\n",
            "\u001b[?25l  Downloading https://files.pythonhosted.org/packages/f8/1f/acde6ff69864c5e78b56488e3afd93c1ccc8c2651186e2a5f93d93f64859/cryptography-3.4.6-cp36-abi3-manylinux2014_x86_64.whl (3.2MB)\n",
            "\u001b[K     |████████████████████████████████| 3.2MB 49.3MB/s \n",
            "\u001b[?25hCollecting ntlm-auth>=1.0.2\n",
            "  Downloading https://files.pythonhosted.org/packages/ff/84/97c550164b54942b0e908c31ef09d9469f3ba4cd7332a671e2125732f63b/ntlm_auth-1.5.0-py2.py3-none-any.whl\n",
            "Requirement already satisfied: joblib>=0.11 in /usr/local/lib/python3.6/dist-packages (from scikit-learn>=0.17->qiskit-ignis==0.5.2->qiskit) (1.0.0)\n",
            "Requirement already satisfied: pytz>=2017.2 in /usr/local/lib/python3.6/dist-packages (from pandas->qiskit-aqua==0.8.2->qiskit) (2018.9)\n",
            "Requirement already satisfied: multitasking>=0.0.7 in /usr/local/lib/python3.6/dist-packages (from yfinance->qiskit-aqua==0.8.2->qiskit) (0.0.9)\n",
            "Collecting lxml>=4.5.1\n",
            "\u001b[?25l  Downloading https://files.pythonhosted.org/packages/bd/78/56a7c88a57d0d14945472535d0df9fb4bbad7d34ede658ec7961635c790e/lxml-4.6.2-cp36-cp36m-manylinux1_x86_64.whl (5.5MB)\n",
            "\u001b[K     |████████████████████████████████| 5.5MB 48.4MB/s \n",
            "\u001b[?25hRequirement already satisfied: more-itertools in /usr/local/lib/python3.6/dist-packages (from quandl->qiskit-aqua==0.8.2->qiskit) (8.7.0)\n",
            "Collecting inflection>=0.3.1\n",
            "  Downloading https://files.pythonhosted.org/packages/59/91/aa6bde563e0085a02a435aa99b49ef75b0a4b062635e606dab23ce18d720/inflection-0.5.1-py2.py3-none-any.whl\n",
            "Requirement already satisfied: cffi>=1.12 in /usr/local/lib/python3.6/dist-packages (from cryptography>=1.3->requests-ntlm>=1.1.0->qiskit-ibmq-provider==0.11.1->qiskit) (1.14.4)\n",
            "Requirement already satisfied: pycparser in /usr/local/lib/python3.6/dist-packages (from cffi>=1.12->cryptography>=1.3->requests-ntlm>=1.1.0->qiskit-ibmq-provider==0.11.1->qiskit) (2.20)\n",
            "Building wheels for collected packages: qiskit, contextvars, python-constraint, docplex, dlx, yfinance\n",
            "  Building wheel for qiskit (setup.py) ... \u001b[?25l\u001b[?25hdone\n",
            "  Created wheel for qiskit: filename=qiskit-0.23.6-cp36-none-any.whl size=2883 sha256=546a2b662a2f289961f38105c82a8749fcf88988c43ac62262bd8057231cde94\n",
            "  Stored in directory: /root/.cache/pip/wheels/b1/5e/2a/a9afb84cb4e8a08ea994982aaf040b2c668ef5fee81430f1f5\n",
            "  Building wheel for contextvars (setup.py) ... \u001b[?25l\u001b[?25hdone\n",
            "  Created wheel for contextvars: filename=contextvars-2.4-cp36-none-any.whl size=7667 sha256=cb40b51ffe3158f5dddc143c9d1d778b658415b85b52d62bd98100b442495b3f\n",
            "  Stored in directory: /root/.cache/pip/wheels/a5/7d/68/1ebae2668bda2228686e3c1cf16f2c2384cea6e9334ad5f6de\n",
            "  Building wheel for python-constraint (setup.py) ... \u001b[?25l\u001b[?25hdone\n",
            "  Created wheel for python-constraint: filename=python_constraint-1.4.0-py2.py3-none-any.whl size=24079 sha256=9e7b4bb9d06eeb101ec66187490929a96acbd46074803e3078e60839ef181ca1\n",
            "  Stored in directory: /root/.cache/pip/wheels/34/31/15/7b070b25d0a549d20ce2e9fe6d727471c2c61ef904720fd40c\n",
            "  Building wheel for docplex (setup.py) ... \u001b[?25l\u001b[?25hdone\n",
            "  Created wheel for docplex: filename=docplex-2.15.194-cp36-none-any.whl size=645116 sha256=9733975adc21de91aa0ece80d6293bdb7cb29b1c51b9357f39eca08e609e30e9\n",
            "  Stored in directory: /root/.cache/pip/wheels/ce/fa/5d/8f4d5fed1b8edb72e453cb2ac6fb75c6776b49d7174eb70457\n",
            "  Building wheel for dlx (setup.py) ... \u001b[?25l\u001b[?25hdone\n",
            "  Created wheel for dlx: filename=dlx-1.0.4-cp36-none-any.whl size=5711 sha256=6dd5adac0c9f437e2aace8cc4d8ac50201a0608dc0caa7b5a4447730e63f4d3a\n",
            "  Stored in directory: /root/.cache/pip/wheels/bb/ba/15/fdd0deb104df3254912998150ba9245668db06b00af5912d1a\n",
            "  Building wheel for yfinance (setup.py) ... \u001b[?25l\u001b[?25hdone\n",
            "  Created wheel for yfinance: filename=yfinance-0.1.55-py2.py3-none-any.whl size=22616 sha256=2063abf552856cdf00b655236364196c2a6960e3ac33cd466f276c1bf9789414\n",
            "  Stored in directory: /root/.cache/pip/wheels/04/98/cc/2702a4242d60bdc14f48b4557c427ded1fe92aedf257d4565c\n",
            "Successfully built qiskit contextvars python-constraint docplex dlx yfinance\n",
            "Installing collected packages: retworkx, immutables, contextvars, sympy, ply, fastjsonschema, python-constraint, qiskit-terra, pybind11, qiskit-aer, cryptography, ntlm-auth, requests-ntlm, websockets, qiskit-ibmq-provider, qiskit-ignis, docplex, dlx, lxml, yfinance, inflection, quandl, qiskit-aqua, qiskit\n",
            "  Found existing installation: sympy 1.1.1\n",
            "    Uninstalling sympy-1.1.1:\n",
            "      Successfully uninstalled sympy-1.1.1\n",
            "  Found existing installation: lxml 4.2.6\n",
            "    Uninstalling lxml-4.2.6:\n",
            "      Successfully uninstalled lxml-4.2.6\n",
            "Successfully installed contextvars-2.4 cryptography-3.4.6 dlx-1.0.4 docplex-2.15.194 fastjsonschema-2.15.0 immutables-0.15 inflection-0.5.1 lxml-4.6.2 ntlm-auth-1.5.0 ply-3.11 pybind11-2.6.2 python-constraint-1.4.0 qiskit-0.23.6 qiskit-aer-0.7.5 qiskit-aqua-0.8.2 qiskit-ibmq-provider-0.11.1 qiskit-ignis-0.5.2 qiskit-terra-0.16.4 quandl-3.6.0 requests-ntlm-1.1.0 retworkx-0.7.2 sympy-1.7.1 websockets-8.1 yfinance-0.1.55\n"
          ],
          "name": "stdout"
        }
      ]
    },
    {
      "cell_type": "markdown",
      "metadata": {
        "id": "Fm4F0IehzH3Q"
      },
      "source": [
        "Imorting the required libraries"
      ]
    },
    {
      "cell_type": "code",
      "metadata": {
        "id": "1IEIVIFbUNlj"
      },
      "source": [
        "import numpy as np\n",
        "import math\n",
        "import random\n",
        "import matplotlib.pyplot as plt\n",
        "\n",
        "import qiskit"
      ],
      "execution_count": 2,
      "outputs": []
    },
    {
      "cell_type": "code",
      "metadata": {
        "id": "hQxnXA9e4LQ8"
      },
      "source": [
        "def x(): #defining the pauli X gate which is [[0,1]\n",
        "                                      # [1,0]]\n",
        "    return np.array([[0.0,1.0],[1.0,0.0]], dtype = 'complex') \n",
        "\n",
        "def y(): #the pauli Y gate\n",
        "    return np.array([[0.0,-1.0j],[1.0j,0.0]], dtype = 'complex')\n",
        "\n",
        "def z(): #the pauli Z gate\n",
        "    return np.array([[1.0,0.0],[0.0,-1.0]], dtype = 'complex')\n",
        "\n",
        "def h(): #the Hadamard gate\n",
        "    return np.sqrt(1/2)*np.array([[1.0,1.0],[1.0,-1.0]], dtype = 'complex')\n",
        "\n",
        "def s(): #the Phase gate\n",
        "    return np.array([[1.0,0.0],[0.0,1.0j]], dtype = 'complex')\n",
        "\n",
        "def t(): #the T gate\n",
        "    return np.array([[1,0],[0,np.exp(1.0j*np.pi/4)]], dtype = 'complex')\n",
        "\n",
        "def projections(): #the Projection Operators\n",
        "    projection_0 = np.array([[1,0],[0,0]], dtype = 'complex')\n",
        "    projection_1 = np.array([[0,0],[0,1]], dtype = 'complex')\n",
        "    return (projection_0, projection_1)\n",
        "def U3(theta, phi, lambda_):\n",
        "    a = math.cos(theta / 2)\n",
        "    b = -math.e**(complex(0, lambda_)) * math.sin(theta / 2)\n",
        "    c = math.e**(complex(0, phi)) * math.sin(theta / 2)\n",
        "    d = math.e**(complex(0, lambda_ + phi)) * math.cos(theta / 2)\n",
        "    return np.array([\n",
        "        [a, b],\n",
        "        [c, d]\n",
        "        ])\n",
        "\n",
        "I = np.eye(2)"
      ],
      "execution_count": 18,
      "outputs": []
    },
    {
      "cell_type": "markdown",
      "metadata": {
        "id": "ePJAvB9qzWlN"
      },
      "source": [
        "I've written the gates as functions and not variables because I don't want to confuse the users and also because if the user unknowingly uses one of the variables as a symbol, the data will be overwritten"
      ]
    },
    {
      "cell_type": "code",
      "metadata": {
        "id": "4lgr5utd-eAH"
      },
      "source": [
        "def get_ground_state(num_qubits):\n",
        "      # return vector of size 2**num_qubits with all zeroes except first element which is 1\n",
        "    q = np.zeros(2**num_qubits)\n",
        "    q[0] = 1\n",
        "    return q\n",
        "\n",
        "\n",
        "\n",
        "def get_operator(total_qubits, gate_string, target_qubits, params = None):\n",
        "  # return unitary operator of size 2**n x 2**n for given gate and target qubits\n",
        "    if (len(target_qubits) == 1):\n",
        "        if params is None: #if there are no parameters, then it's not a u3 gate\n",
        "            gate = I\n",
        "            if (gate_string == 'x'): gate = x() #checking which gate was requested\n",
        "            elif (gate_string == 'y'): gate = y()\n",
        "            elif (gate_string == 'z'): gate = z()\n",
        "            elif (gate_string == 'h'): gate = h()\n",
        "            elif (gate_string == 's'): gate = s()\n",
        "            elif (gate_string == 't'): gate = t()\n",
        "            \n",
        "            operator_used = np.zeros(total_qubits) \n",
        "            operator_used[target_qubits[0]] = 1 #setting the target_qubits to 1 so that the gate can be applied to them\n",
        "            final_op = I\n",
        "            if (operator_used[0] == 1): \n",
        "                final_op = gate\n",
        "\n",
        "            for i in range(1, total_qubits):\n",
        "                if (operator_used[i] == 0): \n",
        "                    final_op = np.kron(final_op, I) #if it's not a traget qubit, then we use I, else we use the gate\n",
        "                else : \n",
        "                    final_op = np.kron(final_op, gate)\n",
        "            return final_op\n",
        "        else : #applying the u3 gate\n",
        "            if gate_string != \"u3\":\n",
        "                print(\"please don't enter any parameters\")\n",
        "            theta = float(params[0])\n",
        "            phi = float(params[1])\n",
        "            lambda_ = float(params[2])\n",
        "            gate = U3(theta, phi, lambda_)\n",
        "            operator_used = np.zeros(total_qubits)\n",
        "            operator_used[target_qubits[0]] = 1\n",
        "            final_op = I\n",
        "            if (operator_used[0] == 1): \n",
        "                final_op = gate\n",
        "\n",
        "            for i in range(1, total_qubits):\n",
        "                if (operator_used[i] == 0): \n",
        "                    final_op = np.kron(final_op, I)\n",
        "                else : \n",
        "                    final_op = np.kron(final_op, gate)\n",
        "            return final_op\n",
        "            \n",
        "    \n",
        "    else :\n",
        "        gate = I\n",
        "        if (gate_string == 'cx'): gate = x()\n",
        "        elif (gate_string == 'cz'): gate = z()\n",
        "        elif (gate_string == 'cy'): gate = y()\n",
        "        control_bit = target_qubits[0]\n",
        "        target_bit = target_qubits[1]\n",
        "        if control_bit == target_bit:\n",
        "            print(\"Error: The Control bit and The Target bit are the same, please enter the different values\")\n",
        "            return\n",
        "        operator_used = np.zeros(total_qubits)\n",
        "        operator_used[control_bit] = 1\n",
        "        operator_used[target_bit] = 2\n",
        "        left_tensor = I\n",
        "        right_tensor = I\n",
        "        \n",
        "        if operator_used[0] == 1:\n",
        "            left_tensor = projections()[0]\n",
        "            right_tensor = projections()[1]\n",
        "        elif operator_used[0] == 2:\n",
        "            right_tensor = gate\n",
        "\n",
        "        for i in range(1, total_qubits):\n",
        "            if (operator_used[i] == 0): \n",
        "                left_tensor = np.kron(left_tensor, I)\n",
        "                right_tensor = np.kron(right_tensor, I)\n",
        "            elif (operator_used[i] == 1): \n",
        "                left_tensor = np.kron(left_tensor, projections()[0])\n",
        "                right_tensor = np.kron(right_tensor, projections()[1])\n",
        "            else :\n",
        "                left_tensor = np.kron(left_tensor, I)\n",
        "                right_tensor = np.kron(right_tensor, gate)\n",
        "        \n",
        "        \n",
        "        return left_tensor + right_tensor\n",
        "        \n",
        "\n",
        "    \n",
        "\n",
        "def run_program(initial_state, program):\n",
        "  # read program, and for each gate:\n",
        "  #   - calculate matrix operator\n",
        "  #   - multiply state with operator\n",
        "  # return final state\n",
        "    qubits = int(math.log2(len(initial_state)))\n",
        "    for i in range(0, len(program)):\n",
        "        if len(program[i][\"params\"]) == 3:\n",
        "            initial_state = np.dot(initial_state, get_operator(qubits, program[i][\"gate\"], program[i][\"target\"], program[i][\"params\"]))\n",
        "        else:\n",
        "            initial_state = np.dot(initial_state, get_operator(qubits, program[i][\"gate\"], program[i][\"target\"]))\n",
        "    return initial_state\n",
        "\n",
        "def measure_all(state_vector):\n",
        "  # choose element from state_vector using weighted random and return it's index\n",
        "    qubits = int(math.log2(len(state_vector)))\n",
        "    index = [\"\" for x in range(len(state_vector))]\n",
        "    probabilities = [abs(i)**2 for i in state_vector]\n",
        "    for i in range(0, len(index)):\n",
        "        index[i] = str(format(i, '00' + str(qubits) + 'b'))\n",
        "    return random.choices(index, probabilities)[0]\n",
        "\n",
        "def get_counts(state_vector, num_shots):\n",
        "  # simply execute measure_all in a loop num_shots times and\n",
        "  # return object with statistics in following form:\n",
        "  #   {\n",
        "  #      element_index: number_of_ocurrences,\n",
        "  #      element_index: number_of_ocurrences,\n",
        "  #      element_index: number_of_ocurrences,\n",
        "  #      ...\n",
        "  #   }\n",
        "  # (only for elements which occoured - returned from measure_all)\n",
        "    \n",
        "    bin_index = [\"\" for x in range(len(state_vector))]\n",
        "    qubits = int(math.log2(len(state_vector)))\n",
        "    for i in range(0, len(bin_index)):\n",
        "        bin_index[i] = str(format(i, '00' + str(qubits) + 'b'))\n",
        "    \n",
        "    values = {}\n",
        "    \n",
        "    for i in range(0, len(bin_index)):\n",
        "        values[bin_index[i]]=0\n",
        "    \n",
        "    for i in range(0, num_shots):\n",
        "        values[measure_all(state_vector)] +=1\n",
        "\n",
        "    for i in range(0, len(bin_index)):\n",
        "        if(values[bin_index[i]]==0):\n",
        "            del(values[bin_index[i]])\n",
        "    \n",
        "    return values\n",
        "\n"
      ],
      "execution_count": 19,
      "outputs": []
    },
    {
      "cell_type": "code",
      "metadata": {
        "colab": {
          "base_uri": "https://localhost:8080/"
        },
        "id": "KaFxtEurolj3",
        "outputId": "9e6140ba-3781-4be3-9500-1d1edb680267"
      },
      "source": [
        "# Define program:\n",
        "\n",
        "my_circuit = [\n",
        "{ \"gate\": \"h\", \"target\": [0], \"params\": [] }, \n",
        "{ \"gate\": \"cx\", \"target\": [0, 1], \"params\": [] },\n",
        "{ \"gate\": \"u3\", \"target\": [0], \"params\":[50, 0, 0] }\n",
        "]\n",
        "\n",
        "\n",
        "# Create \"quantum computer\" with 2 qubits (this is actually just a vector :) )\n",
        "\n",
        "my_qpu = get_ground_state(2)\n",
        "\n",
        "\n",
        "# Run circuit\n",
        "\n",
        "final_state = run_program(my_qpu, my_circuit)\n",
        "\n",
        "\n",
        "# Read results\n",
        "\n",
        "counts = get_counts(final_state, 1000)\n",
        "\n",
        "print(counts)\n"
      ],
      "execution_count": 20,
      "outputs": [
        {
          "output_type": "stream",
          "text": [
            "{'00': 490, '01': 9, '10': 6, '11': 495}\n"
          ],
          "name": "stdout"
        }
      ]
    },
    {
      "cell_type": "code",
      "metadata": {
        "colab": {
          "base_uri": "https://localhost:8080/",
          "height": 407
        },
        "id": "mXojXOv29HOA",
        "outputId": "a826f85e-112a-4804-e5fc-11ed009b9a54"
      },
      "source": [
        "fig, ax = plt.subplots(1,1,dpi=100)\n",
        "plt.bar(*zip(*counts.items()),color='m',width=0.3,edgecolor='black',linewidth=1.5)\n",
        "x_ticks_labels = counts.keys()\n",
        "ax.set_xticklabels(x_ticks_labels, fontsize=15)\n",
        "ax.set_xlabel(\"Quantum State\",fontsize=16)\n",
        "ax.set_ylabel(\"Number of Occurances\",fontsize=16)\n",
        "ax.set_axisbelow(True)\n",
        "ax.grid(linestyle='--',color='lightgray',zorder=0)\n",
        "fig.tight_layout()"
      ],
      "execution_count": 28,
      "outputs": [
        {
          "output_type": "display_data",
          "data": {
            "image/png": "[encoded data removed]",
            "text/plain": [
              "<Figure size 600x400 with 1 Axes>"
            ]
          },
          "metadata": {
            "tags": [],
            "needs_background": "light"
          }
        }
      ]
    },
    {
      "cell_type": "code",
      "metadata": {
        "id": "n5B3x__r9T9F"
      },
      "source": [
        ""
      ],
      "execution_count": null,
      "outputs": []
    }
  ]
}